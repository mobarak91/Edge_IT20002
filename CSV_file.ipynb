{
  "nbformat": 4,
  "nbformat_minor": 0,
  "metadata": {
    "colab": {
      "provenance": [],
      "authorship_tag": "ABX9TyNDEgbdqDLBrXxCkLBUavMf",
      "include_colab_link": true
    },
    "kernelspec": {
      "name": "python3",
      "display_name": "Python 3"
    },
    "language_info": {
      "name": "python"
    }
  },
  "cells": [
    {
      "cell_type": "markdown",
      "metadata": {
        "id": "view-in-github",
        "colab_type": "text"
      },
      "source": [
        "<a href=\"https://colab.research.google.com/github/mobarak91/Edge_IT20002/blob/main/CSV_file.ipynb\" target=\"_parent\"><img src=\"https://colab.research.google.com/assets/colab-badge.svg\" alt=\"Open In Colab\"/></a>"
      ]
    },
    {
      "cell_type": "code",
      "execution_count": null,
      "metadata": {
        "id": "9TKurEvA2_67"
      },
      "outputs": [],
      "source": [
        "import csv\n",
        "from mpmath import mp\n",
        "\n",
        "# Set precision for PI (adjust as needed)\n",
        "mp.dps = 1000  # Set decimal places of PI\n",
        "PI = str(mp.pi)[2:]  # Get PI as a string without \"3.\"\n",
        "\n",
        "def read_input_file(input_file):\n",
        "    \"\"\"Read the input.csv file to get the positions.\"\"\"\n",
        "    positions = []\n",
        "    with open(input_file, 'r') as file:\n",
        "        reader = csv.reader(file)\n",
        "        next(reader)  # Skip header\n",
        "        for row in reader:\n",
        "            positions.append(int(row[0]))\n",
        "    return positions\n",
        "\n",
        "def write_output_file(output_file, data):\n",
        "    \"\"\"Write the results to output.csv.\"\"\"\n",
        "    with open(output_file, 'w', newline='') as file:\n",
        "        writer = csv.writer(file)\n",
        "        writer.writerow([\"Position\", \"Digit\"])\n",
        "        writer.writerows(data)\n",
        "\n",
        "def get_pi_digits(positions):\n",
        "    \"\"\"Retrieve digits of PI based on the input positions.\"\"\"\n",
        "    output = []\n",
        "    for pos in positions:\n",
        "        if pos <= len(PI):  # Ensure the position is within bounds\n",
        "            output.append((pos, PI[pos - 1]))  # PI is zero-indexed\n",
        "        else:\n",
        "            output.append((pos, \"Out of bounds\"))\n",
        "    return output\n",
        "\n",
        "# File paths\n",
        "input_file = \"input.csv\"\n",
        "output_file = \"output.csv\"\n",
        "\n",
        "# Process the input and generate the output\n",
        "try:\n",
        "    positions = read_input_file(input_file)\n",
        "    results = get_pi_digits(positions)\n",
        "    write_output_file(output_file, results)\n",
        "    print(f\"Digits written to {output_file}\")\n",
        "except FileNotFoundError as e:\n",
        "    print(f\"Error: {e}\")\n",
        "except Exception as e:\n",
        "    print(f\"An unexpected error occurred: {e}\")\n"
      ]
    }
  ]
}