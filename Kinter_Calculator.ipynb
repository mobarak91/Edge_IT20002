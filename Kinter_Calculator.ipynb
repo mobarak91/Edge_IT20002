{
  "nbformat": 4,
  "nbformat_minor": 0,
  "metadata": {
    "colab": {
      "provenance": [],
      "authorship_tag": "ABX9TyN6IPXqF9zRiGVuvkuLNE56",
      "include_colab_link": true
    },
    "kernelspec": {
      "name": "python3",
      "display_name": "Python 3"
    },
    "language_info": {
      "name": "python"
    }
  },
  "cells": [
    {
      "cell_type": "markdown",
      "metadata": {
        "id": "view-in-github",
        "colab_type": "text"
      },
      "source": [
        "<a href=\"https://colab.research.google.com/github/mobarak91/Edge_IT20002/blob/main/Kinter_Calculator.ipynb\" target=\"_parent\"><img src=\"https://colab.research.google.com/assets/colab-badge.svg\" alt=\"Open In Colab\"/></a>"
      ]
    },
    {
      "cell_type": "code",
      "source": [
        "import tkinter as tk\n",
        "from tkinter import messagebox\n",
        "\n",
        "def click(button_text):\n",
        "    if button_text == \"=\":\n",
        "        try:\n",
        "            result = eval(entry.get())\n",
        "            entry.delete(0, tk.END)\n",
        "            entry.insert(tk.END, str(result))\n",
        "        except Exception as e:\n",
        "            messagebox.showerror(\"Error\", \"Invalid Input\")\n",
        "    elif button_text == \"C\":\n",
        "        entry.delete(0, tk.END)\n",
        "    else:\n",
        "        entry.insert(tk.END, button_text)\n",
        "\n",
        "# Create the main window\n",
        "root = tk.Tk()\n",
        "root.title(\"Simple Calculator\")\n",
        "\n",
        "# Create an entry widget\n",
        "entry = tk.Entry(root, width=20, font=(\"Arial\", 18), bd=8, insertwidth=4, justify='right')\n",
        "entry.grid(row=0, column=0, columnspan=4)\n",
        "\n",
        "# Button texts\n",
        "buttons = [\n",
        "    \"7\", \"8\", \"9\", \"/\",\n",
        "    \"4\", \"5\", \"6\", \"*\",\n",
        "    \"1\", \"2\", \"3\", \"-\",\n",
        "    \"C\", \"0\", \"=\", \"+\"\n",
        "]\n",
        "\n",
        "# Create and place buttons\n",
        "row_val = 1\n",
        "col_val = 0\n",
        "for button in buttons:\n",
        "    tk.Button(\n",
        "        root, text=button, padx=20, pady=20, font=(\"Arial\", 14),\n",
        "        command=lambda b=button: click(b)\n",
        "    ).grid(row=row_val, column=col_val)\n",
        "    col_val += 1\n",
        "    if col_val > 3:\n",
        "        col_val = 0\n",
        "        row_val += 1\n",
        "\n",
        "# Run the application\n",
        "root.mainloop()\n"
      ],
      "metadata": {
        "id": "mL-t5jc72Iek"
      },
      "execution_count": null,
      "outputs": []
    }
  ]
}