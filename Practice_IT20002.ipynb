{
  "nbformat": 4,
  "nbformat_minor": 0,
  "metadata": {
    "colab": {
      "provenance": [],
      "toc_visible": true,
      "authorship_tag": "ABX9TyPm7ifafOvkcrRawojkwWzQ",
      "include_colab_link": true
    },
    "kernelspec": {
      "name": "python3",
      "display_name": "Python 3"
    },
    "language_info": {
      "name": "python"
    }
  },
  "cells": [
    {
      "cell_type": "markdown",
      "metadata": {
        "id": "view-in-github",
        "colab_type": "text"
      },
      "source": [
        "<a href=\"https://colab.research.google.com/github/mobarak91/Edge_IT20002/blob/main/Practice_IT20002.ipynb\" target=\"_parent\"><img src=\"https://colab.research.google.com/assets/colab-badge.svg\" alt=\"Open In Colab\"/></a>"
      ]
    },
    {
      "cell_type": "markdown",
      "source": [
        "Function Call"
      ],
      "metadata": {
        "id": "lcnC4VgHy_tW"
      }
    },
    {
      "cell_type": "markdown",
      "source": [
        "Function Test"
      ],
      "metadata": {
        "id": "1g1HJ-RQ6Q25"
      }
    },
    {
      "cell_type": "code",
      "source": [
        "def SeriesSum(n=1):\n",
        "    sum=n*(n+1)/2\n",
        "    return sum\n",
        "\n",
        "n=int(input(\"Enter the number N:\"))\n",
        "\n",
        "print(\"Summation of the numbers 1 to n is:\",SeriesSum(n))"
      ],
      "metadata": {
        "id": "owQOCV626WrX"
      },
      "execution_count": null,
      "outputs": []
    }
  ]
}