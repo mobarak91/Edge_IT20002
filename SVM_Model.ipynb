{
  "nbformat": 4,
  "nbformat_minor": 0,
  "metadata": {
    "colab": {
      "provenance": [],
      "authorship_tag": "ABX9TyP+HFYgCenWVXqvDofTmOSj",
      "include_colab_link": true
    },
    "kernelspec": {
      "name": "python3",
      "display_name": "Python 3"
    },
    "language_info": {
      "name": "python"
    }
  },
  "cells": [
    {
      "cell_type": "markdown",
      "metadata": {
        "id": "view-in-github",
        "colab_type": "text"
      },
      "source": [
        "<a href=\"https://colab.research.google.com/github/mobarak91/Edge_IT20002/blob/main/SVM_Model.ipynb\" target=\"_parent\"><img src=\"https://colab.research.google.com/assets/colab-badge.svg\" alt=\"Open In Colab\"/></a>"
      ]
    },
    {
      "cell_type": "markdown",
      "source": [
        "Building a Machine Learning Model (SVM/CNN) using Scikitlearn and exporting it using Pickle"
      ],
      "metadata": {
        "id": "7URSd-kSdq_V"
      }
    },
    {
      "cell_type": "code",
      "source": [
        "\n",
        "import pandas as pd\n",
        "from sklearn.model_selection import train_test_split\n",
        "from sklearn.ensemble import RandomForestClassifier\n",
        "from sklearn.metrics import classification_report, accuracy_score\n",
        "import pickle\n",
        "from sklearn.preprocessing import StandardScaler\n",
        "\n",
        "try:\n",
        "    # Load the dataset\n",
        "    dataset = pd.read_csv('lung_cancer.csv')\n",
        "    print(dataset.head())\n",
        "\n",
        "    # Check for missing values and handle them (if necessary)\n",
        "    if dataset.isnull().sum().sum() > 0:\n",
        "        print(\"Warning: Missing values detected! Filling with mean values.\")\n",
        "        dataset.fillna(dataset.mean(), inplace=True)\n",
        "\n",
        "    # Convert categorical data to numeric (if any)\n",
        "    dataset = pd.get_dummies(dataset)\n",
        "\n",
        "    # Define features and target variable\n",
        "    X = dataset.iloc[:, :-1]  # Features (all columns except the last)\n",
        "    y = dataset.iloc[:, -1]   # Target variable (last column)\n",
        "\n",
        "    # Split the dataset into training and test sets (80% train, 20% test)\n",
        "    X_train, X_test, y_train, y_test = train_test_split(X, y, test_size=0.2, random_state=42)\n",
        "\n",
        "    # Scale or normalize input data\n",
        "    scaler = StandardScaler()\n",
        "    X_train = scaler.fit_transform(X_train)\n",
        "    X_test = scaler.transform(X_test)\n",
        "\n",
        "    # Initialize the RandomForestClassifier\n",
        "    clf = RandomForestClassifier(n_estimators=100, random_state=42)\n",
        "\n",
        "    # Train the classifier\n",
        "    clf.fit(X_train, y_train)\n",
        "\n",
        "    # Predict on the test set\n",
        "    y_pred = clf.predict(X_test)\n",
        "\n",
        "    # Evaluate the model\n",
        "    accuracy = accuracy_score(y_test, y_pred)\n",
        "    print(f\"Accuracy: {accuracy:.4f}\")\n",
        "    print(\"Classification Report:\")\n",
        "    print(classification_report(y_test, y_pred))\n",
        "\n",
        "    # Save model and scaler\n",
        "    pickle.dump(clf, open(\"model.sav\", \"wb\"))\n",
        "    pickle.dump(scaler, open(\"scalermodel.sav\", \"wb\"))\n",
        "\n",
        "except FileNotFoundError:\n",
        "    print(\"Error: The specified CSV file was not found. Please check the file path.\")\n",
        "except pd.errors.EmptyDataError:\n",
        "    print(\"Error: The CSV file is empty. Please provide a valid dataset.\")\n",
        "except Exception as e:\n",
        "    print(f\"An unexpected error occurred: {e}\")"
      ],
      "metadata": {
        "colab": {
          "base_uri": "https://localhost:8080/"
        },
        "id": "rpCea-GAeTp0",
        "outputId": "74894ce1-3d19-45a9-8847-51fbc4075a29"
      },
      "execution_count": 2,
      "outputs": [
        {
          "output_type": "stream",
          "name": "stdout",
          "text": [
            "  GENDER  AGE  SMOKING  YELLOW_FINGERS  ANXIETY  PEER_PRESSURE  \\\n",
            "0      M   69        1               2        2              1   \n",
            "1      M   74        2               1        1              1   \n",
            "2      F   59        1               1        1              2   \n",
            "3      M   63        2               2        2              1   \n",
            "4      F   63        1               2        1              1   \n",
            "\n",
            "   CHRONIC DISEASE  FATIGUE   ALLERGY   WHEEZING  ALCOHOL CONSUMING  COUGHING  \\\n",
            "0                1         2         1         2                  2         2   \n",
            "1                2         2         2         1                  1         1   \n",
            "2                1         2         1         2                  1         2   \n",
            "3                1         1         1         1                  2         1   \n",
            "4                1         1         1         2                  1         2   \n",
            "\n",
            "   SHORTNESS OF BREATH  SWALLOWING DIFFICULTY  CHEST PAIN LUNG_CANCER  \n",
            "0                    2                      2           2         YES  \n",
            "1                    2                      2           2         YES  \n",
            "2                    2                      1           2          NO  \n",
            "3                    1                      2           2          NO  \n",
            "4                    2                      1           1          NO  \n",
            "Accuracy: 1.0000\n",
            "Classification Report:\n",
            "              precision    recall  f1-score   support\n",
            "\n",
            "       False       1.00      1.00      1.00         2\n",
            "        True       1.00      1.00      1.00        60\n",
            "\n",
            "    accuracy                           1.00        62\n",
            "   macro avg       1.00      1.00      1.00        62\n",
            "weighted avg       1.00      1.00      1.00        62\n",
            "\n"
          ]
        }
      ]
    }
  ]
}