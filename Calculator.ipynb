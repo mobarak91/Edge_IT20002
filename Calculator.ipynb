{
  "nbformat": 4,
  "nbformat_minor": 0,
  "metadata": {
    "colab": {
      "provenance": [],
      "authorship_tag": "ABX9TyNn3WGvVNc/4FFu1Hv7uadl",
      "include_colab_link": true
    },
    "kernelspec": {
      "name": "python3",
      "display_name": "Python 3"
    },
    "language_info": {
      "name": "python"
    }
  },
  "cells": [
    {
      "cell_type": "markdown",
      "metadata": {
        "id": "view-in-github",
        "colab_type": "text"
      },
      "source": [
        "<a href=\"https://colab.research.google.com/github/mobarak91/Edge_IT20002/blob/main/Calculator.ipynb\" target=\"_parent\"><img src=\"https://colab.research.google.com/assets/colab-badge.svg\" alt=\"Open In Colab\"/></a>"
      ]
    },
    {
      "cell_type": "code",
      "execution_count": null,
      "metadata": {
        "id": "uM_nvTF3uwFm"
      },
      "outputs": [],
      "source": [
        "def add (a,b):\n",
        "    return (a+b)\n",
        "\n",
        "def sub (a,b):\n",
        "    return (a-b)\n",
        "\n",
        "def mul (a,b):\n",
        "    return (a*b)\n",
        "\n",
        "def div (a,b):\n",
        "    return (a/b)"
      ]
    }
  ]
}