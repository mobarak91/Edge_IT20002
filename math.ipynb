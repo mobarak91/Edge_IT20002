{
  "nbformat": 4,
  "nbformat_minor": 0,
  "metadata": {
    "colab": {
      "provenance": [],
      "authorship_tag": "ABX9TyMf3+ioIA92w94FIM8OrLL9",
      "include_colab_link": true
    },
    "kernelspec": {
      "name": "python3",
      "display_name": "Python 3"
    },
    "language_info": {
      "name": "python"
    }
  },
  "cells": [
    {
      "cell_type": "markdown",
      "metadata": {
        "id": "view-in-github",
        "colab_type": "text"
      },
      "source": [
        "<a href=\"https://colab.research.google.com/github/mobarak91/Edge_IT20002/blob/main/math.ipynb\" target=\"_parent\"><img src=\"https://colab.research.google.com/assets/colab-badge.svg\" alt=\"Open In Colab\"/></a>"
      ]
    },
    {
      "cell_type": "code",
      "execution_count": 2,
      "metadata": {
        "id": "OEWSlPcm4D_B"
      },
      "outputs": [],
      "source": [
        "from mpmath import mp\n",
        "def print_pi_to_n_digits(n):\n",
        "\n",
        "    # Set precision to n decimal places\n",
        "\n",
        "    mp.dps = n + 1  # Adding 1 to account for the \"3.\" before the decimals\n",
        "\n",
        "    # Return pi to n decimal places as a string\n",
        "\n",
        "    return str(mp.pi)"
      ]
    }
  ]
}